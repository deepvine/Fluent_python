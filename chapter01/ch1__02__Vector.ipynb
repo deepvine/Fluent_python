{
 "cells": [
  {
   "cell_type": "code",
   "execution_count": 1,
   "metadata": {},
   "outputs": [],
   "source": [
    "from math import hypot"
   ]
  },
  {
   "cell_type": "code",
   "execution_count": 58,
   "metadata": {},
   "outputs": [],
   "source": [
    "# 특별 메서드는 파이썬 인터프리터가 직접 호출한다\n",
    "class Vector1:\n",
    "    def __init__(self, x=0, y=0):\n",
    "        self.x = x\n",
    "        self.y = y\n",
    "        \n",
    "    def __repr__(self):\n",
    "        print(\"call __repr__ function !!!\")\n",
    "        return 'Vector(%r, %r)' % (self.x, self.y)\n",
    "    \n",
    "    def __str__(self):\n",
    "        print(\"call __str__ function !!!\")\n",
    "        return 'Vector(%r, %r)' % (self.x, self.y)\n",
    "    \n",
    "    def __abs__(self):\n",
    "        print(\"call __abs__ function !!!\")        \n",
    "        return hypot(self.x, self.y)\n",
    "    \n",
    "    def __bool__(self):\n",
    "        print(\"call __bool__ function !!!\")\n",
    "        return bool(abs(self))\n",
    "    \n",
    "    def __add__(self, other):\n",
    "        print(\"call __add__ function !!!\")\n",
    "        x = self.x + other.x\n",
    "        y = self.y + other.y\n",
    "        return Vector(x, y)\n",
    "    \n",
    "    def __mul__(self, scalar):\n",
    "        print(\"call __mul__ function !!!\")\n",
    "        return Vector(self.x * scalar, self.y * scalar)"
   ]
  },
  {
   "cell_type": "code",
   "execution_count": 59,
   "metadata": {},
   "outputs": [
    {
     "name": "stdout",
     "output_type": "stream",
     "text": [
      "call __repr__ function !!!\n"
     ]
    },
    {
     "data": {
      "text/plain": [
       "Vector(1, 2)"
      ]
     },
     "execution_count": 59,
     "metadata": {},
     "output_type": "execute_result"
    }
   ],
   "source": [
    "Vector1(1, 2)"
   ]
  },
  {
   "cell_type": "code",
   "execution_count": 60,
   "metadata": {},
   "outputs": [
    {
     "name": "stdout",
     "output_type": "stream",
     "text": [
      "call __repr__ function !!!\n"
     ]
    },
    {
     "data": {
      "text/plain": [
       "Vector(1, '2')"
      ]
     },
     "execution_count": 60,
     "metadata": {},
     "output_type": "execute_result"
    }
   ],
   "source": [
    "Vector1(1, '2')"
   ]
  },
  {
   "cell_type": "code",
   "execution_count": 61,
   "metadata": {},
   "outputs": [
    {
     "name": "stdout",
     "output_type": "stream",
     "text": [
      "call __str__ function !!!\n"
     ]
    },
    {
     "data": {
      "text/plain": [
       "'Vector(3, 4)'"
      ]
     },
     "execution_count": 61,
     "metadata": {},
     "output_type": "execute_result"
    }
   ],
   "source": [
    "v1 = Vector1(3, 4)\n",
    "str(v1)"
   ]
  },
  {
   "cell_type": "code",
   "execution_count": 67,
   "metadata": {},
   "outputs": [
    {
     "name": "stdout",
     "output_type": "stream",
     "text": [
      "call __abs__ function !!!\n"
     ]
    },
    {
     "data": {
      "text/plain": [
       "5.0"
      ]
     },
     "execution_count": 67,
     "metadata": {},
     "output_type": "execute_result"
    }
   ],
   "source": [
    "v = Vector1(3, 4)\n",
    "abs(v)"
   ]
  },
  {
   "cell_type": "code",
   "execution_count": 68,
   "metadata": {
    "scrolled": true
   },
   "outputs": [
    {
     "name": "stdout",
     "output_type": "stream",
     "text": [
      "call __mul__ function !!!\n",
      "call __abs__ function !!!\n"
     ]
    },
    {
     "data": {
      "text/plain": [
       "15.0"
      ]
     },
     "execution_count": 68,
     "metadata": {},
     "output_type": "execute_result"
    }
   ],
   "source": [
    "abs(v * 3)"
   ]
  },
  {
   "cell_type": "code",
   "execution_count": 62,
   "metadata": {},
   "outputs": [],
   "source": [
    "# 특별 메서드는 파이썬 인터프리터가 직접 호출한다\n",
    "class Vector2:\n",
    "    def __init__(self, x=0, y=0):\n",
    "        self.x = x\n",
    "        self.y = y\n",
    "        \n",
    "    def __repr__(self):\n",
    "        print(\"call __repr__ function !!!\")\n",
    "        return 'Vector(%r, %r)' % (self.x, self.y)\n",
    "    \n",
    "#     def __str__(self):\n",
    "#         print(\"call __str__ function !!!\")\n",
    "#         return 'Vector(%r, %r)' % (self.x, self.y)\n",
    "    \n",
    "    def __abs__(self):\n",
    "        print(\"call __abs__ function !!!\")        \n",
    "        return hypot(self.x, self.y)\n",
    "    \n",
    "#     def __bool__(self):\n",
    "#         print(\"call __bool__ function !!!\")\n",
    "#         return bool(abs(self))\n",
    "    \n",
    "    def __add__(self, other):\n",
    "        print(\"call __add__ function !!!\")\n",
    "        x = self.x + other.x\n",
    "        y = self.y + other.y\n",
    "        return Vector(x, y)\n",
    "    \n",
    "    def __mul__(self, scalar):\n",
    "        print(\"call __mul__ function !!!\")\n",
    "        return Vector(self.x * scalar, self.y * scalar)"
   ]
  },
  {
   "cell_type": "code",
   "execution_count": 64,
   "metadata": {},
   "outputs": [
    {
     "name": "stdout",
     "output_type": "stream",
     "text": [
      "call __str__ function !!!\n",
      "call __repr__ function !!!\n"
     ]
    },
    {
     "data": {
      "text/plain": [
       "('Vector(3, 4)', 'Vector(3, 4)')"
      ]
     },
     "execution_count": 64,
     "metadata": {},
     "output_type": "execute_result"
    }
   ],
   "source": [
    "# __str__ 이 구현되어 있지 않다면 __repr__을 호출한다\n",
    "# 그러므로 둘 중에 하나만 만들어야 된다면 __repr__를 만드는게 좋다\n",
    "\n",
    "v1 = Vector1(3, 4)\n",
    "v2 = Vector2(3, 4)\n",
    "str(v1), str(v2)"
   ]
  },
  {
   "cell_type": "code",
   "execution_count": 55,
   "metadata": {},
   "outputs": [
    {
     "name": "stdout",
     "output_type": "stream",
     "text": [
      "call __add__ function !!!\n",
      "call __repr__ function !!!\n"
     ]
    },
    {
     "data": {
      "text/plain": [
       "Vector(4, 5)"
      ]
     },
     "execution_count": 55,
     "metadata": {},
     "output_type": "execute_result"
    }
   ],
   "source": [
    "# 중위 연산자는 피 연산자를 변경하는 것이 아니라 객체를 새로 만든다\n",
    "v1 = Vector(2, 4)\n",
    "v2 = Vector(2, 1)\n",
    "v1 + v2"
   ]
  },
  {
   "cell_type": "code",
   "execution_count": 56,
   "metadata": {},
   "outputs": [
    {
     "name": "stdout",
     "output_type": "stream",
     "text": [
      "call __mul__ function !!!\n",
      "call __repr__ function !!!\n"
     ]
    },
    {
     "data": {
      "text/plain": [
       "Vector(9, 12)"
      ]
     },
     "execution_count": 56,
     "metadata": {},
     "output_type": "execute_result"
    }
   ],
   "source": [
    "v * 3"
   ]
  },
  {
   "cell_type": "code",
   "execution_count": 70,
   "metadata": {},
   "outputs": [
    {
     "name": "stdout",
     "output_type": "stream",
     "text": [
      "call __bool__ function !!!\n",
      "call __abs__ function !!!\n",
      "==\n"
     ]
    },
    {
     "data": {
      "text/plain": [
       "True"
      ]
     },
     "execution_count": 70,
     "metadata": {},
     "output_type": "execute_result"
    }
   ],
   "source": [
    "bool(v1)\n",
    "print(\"==\")\n",
    "bool(v2)"
   ]
  },
  {
   "cell_type": "code",
   "execution_count": null,
   "metadata": {},
   "outputs": [],
   "source": []
  }
 ],
 "metadata": {
  "kernelspec": {
   "display_name": "Python 3",
   "language": "python",
   "name": "python3"
  },
  "language_info": {
   "codemirror_mode": {
    "name": "ipython",
    "version": 3
   },
   "file_extension": ".py",
   "mimetype": "text/x-python",
   "name": "python",
   "nbconvert_exporter": "python",
   "pygments_lexer": "ipython3",
   "version": "3.7.6"
  }
 },
 "nbformat": 4,
 "nbformat_minor": 4
}
