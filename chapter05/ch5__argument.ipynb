{
 "cells": [
  {
   "cell_type": "markdown",
   "metadata": {},
   "source": [
    "- 아래의 cls 매개변수와 같은 키워드 전용 인수는 결코 익명의 위치 인수(positional argument)로는 전달되지 않는다.\n",
    "- 함수를 정의할 때 키워드 전용 인수를 지정하려면 *가 붙은 인수 뒤에 이름을 지정하면 된다"
   ]
  },
  {
   "cell_type": "code",
   "execution_count": 62,
   "metadata": {},
   "outputs": [],
   "source": [
    "def tag(name, *content, cls=None, **attrs):\n",
    "    \"\"\"하나 이상의 HTML 태그를 생성한다.\"\"\"\n",
    "    print('name: ', name)\n",
    "    print('cls: ', cls)\n",
    "    if cls is not None:\n",
    "        attrs['class'] = cls\n",
    "        \n",
    "    print('attrs: ', attrs)\n",
    "    print('content: ', content)\n",
    "    if attrs:\n",
    "        attr_str = ''.join(' %s=\"%s\"'%(attr, value)\n",
    "                          for attr, value\n",
    "                          in sorted(attrs.items()))\n",
    "    else:\n",
    "        attr_str = ''\n",
    "    \n",
    "    if content:\n",
    "        return '\\n'.join('<%s%s>%s</%s>'%\n",
    "                         (name, attr_str, c, name) for c in content)\n",
    "    else:\n",
    "        return '<%s%s />'%(name, attr_str)"
   ]
  },
  {
   "cell_type": "code",
   "execution_count": 63,
   "metadata": {},
   "outputs": [
    {
     "name": "stdout",
     "output_type": "stream",
     "text": [
      "name:  br\n",
      "cls:  None\n",
      "attrs:  {}\n",
      "content:  ()\n"
     ]
    },
    {
     "data": {
      "text/plain": [
       "'<br />'"
      ]
     },
     "execution_count": 63,
     "metadata": {},
     "output_type": "execute_result"
    }
   ],
   "source": [
    "# 위치 인수 하나만 사용해서 호출\n",
    "tag('br')"
   ]
  },
  {
   "cell_type": "code",
   "execution_count": 64,
   "metadata": {},
   "outputs": [
    {
     "name": "stdout",
     "output_type": "stream",
     "text": [
      "name:  p\n",
      "cls:  None\n",
      "attrs:  {}\n",
      "content:  ('hello',)\n"
     ]
    },
    {
     "data": {
      "text/plain": [
       "'<p>hello</p>'"
      ]
     },
     "execution_count": 64,
     "metadata": {},
     "output_type": "execute_result"
    }
   ],
   "source": [
    "# 첫 번째 이후의 인수들은 모두 *content 매개변수에 튜플로 전달\n",
    "tag('p', 'hello')"
   ]
  },
  {
   "cell_type": "code",
   "execution_count": 65,
   "metadata": {},
   "outputs": [
    {
     "name": "stdout",
     "output_type": "stream",
     "text": [
      "name:  p\n",
      "cls:  None\n",
      "attrs:  {}\n",
      "content:  ('hello', 'world')\n",
      "<p>hello</p>\n",
      "<p>world</p>\n"
     ]
    }
   ],
   "source": [
    "print(tag('p', 'hello', 'world'))"
   ]
  },
  {
   "cell_type": "code",
   "execution_count": 66,
   "metadata": {},
   "outputs": [
    {
     "name": "stdout",
     "output_type": "stream",
     "text": [
      "name:  p\n",
      "cls:  None\n",
      "attrs:  {'id': 33}\n",
      "content:  ('hello',)\n"
     ]
    },
    {
     "data": {
      "text/plain": [
       "'<p id=\"33\">hello</p>'"
      ]
     },
     "execution_count": 66,
     "metadata": {},
     "output_type": "execute_result"
    }
   ],
   "source": [
    "# tag 시그너처에 명시적으로 이름이 지정되지 않은 키워드 인수들은 딕셔너리로 **attrs 인수에 전달\n",
    "tag('p', 'hello', id=33)"
   ]
  },
  {
   "cell_type": "code",
   "execution_count": 67,
   "metadata": {},
   "outputs": [
    {
     "name": "stdout",
     "output_type": "stream",
     "text": [
      "name:  p\n",
      "cls:  sidebar\n",
      "attrs:  {'class': 'sidebar'}\n",
      "content:  ('hello', 'world')\n",
      "<p class=\"sidebar\">hello</p>\n",
      "<p class=\"sidebar\">world</p>\n"
     ]
    }
   ],
   "source": [
    "# cls 매개변수만 키워드 인수로 전달된다\n",
    "print(tag('p', 'hello', 'world', cls='sidebar'))"
   ]
  },
  {
   "cell_type": "code",
   "execution_count": 68,
   "metadata": {},
   "outputs": [
    {
     "name": "stdout",
     "output_type": "stream",
     "text": [
      "name:  img\n",
      "cls:  None\n",
      "attrs:  {'content': 'testing'}\n",
      "content:  ()\n"
     ]
    },
    {
     "data": {
      "text/plain": [
       "'<img content=\"testing\" />'"
      ]
     },
     "execution_count": 68,
     "metadata": {},
     "output_type": "execute_result"
    }
   ],
   "source": [
    "# 첫 번째 위치 인수도 tag가 호출되면 키워드로 전달할 수 있다\n",
    "tag(content='testing', name=\"img\")"
   ]
  },
  {
   "cell_type": "code",
   "execution_count": 69,
   "metadata": {},
   "outputs": [],
   "source": [
    "my_tag = {'name': 'img', 'title': 'Sunset Boulevard',\n",
    "          'src': 'sunset.jpg', 'cls': 'framed'}"
   ]
  },
  {
   "cell_type": "code",
   "execution_count": 70,
   "metadata": {},
   "outputs": [
    {
     "name": "stdout",
     "output_type": "stream",
     "text": [
      "name:  img\n",
      "cls:  framed\n",
      "attrs:  {'title': 'Sunset Boulevard', 'src': 'sunset.jpg', 'class': 'framed'}\n",
      "content:  ()\n"
     ]
    },
    {
     "data": {
      "text/plain": [
       "'<img class=\"framed\" src=\"sunset.jpg\" title=\"Sunset Boulevard\" />'"
      ]
     },
     "execution_count": 70,
     "metadata": {},
     "output_type": "execute_result"
    }
   ],
   "source": [
    "# my_tag 딕셔너리 앞에 **를 붙이면 딕셔너리 안의 모든 항목을 별도의 인수로 전달하고, 명명된 매개변수 및 나머지는 **attrs에 전달된다\n",
    "tag(**my_tag)"
   ]
  },
  {
   "cell_type": "code",
   "execution_count": null,
   "metadata": {},
   "outputs": [],
   "source": []
  }
 ],
 "metadata": {
  "kernelspec": {
   "display_name": "Python 3",
   "language": "python",
   "name": "python3"
  },
  "language_info": {
   "codemirror_mode": {
    "name": "ipython",
    "version": 3
   },
   "file_extension": ".py",
   "mimetype": "text/x-python",
   "name": "python",
   "nbconvert_exporter": "python",
   "pygments_lexer": "ipython3",
   "version": "3.7.6"
  }
 },
 "nbformat": 4,
 "nbformat_minor": 4
}
